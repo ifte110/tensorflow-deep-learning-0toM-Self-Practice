{
  "nbformat": 4,
  "nbformat_minor": 0,
  "metadata": {
    "colab": {
      "provenance": [],
      "toc_visible": true,
      "authorship_tag": "ABX9TyMwYsUXEJNaZ2NZLFyS3BTb",
      "include_colab_link": true
    },
    "kernelspec": {
      "name": "python3",
      "display_name": "Python 3"
    },
    "language_info": {
      "name": "python"
    }
  },
  "cells": [
    {
      "cell_type": "markdown",
      "metadata": {
        "id": "view-in-github",
        "colab_type": "text"
      },
      "source": [
        "<a href=\"https://colab.research.google.com/github/ifte110/tensorflow-deep-learning-0toM-Self-Practice/blob/main/00_tf_found.ipynb\" target=\"_parent\"><img src=\"https://colab.research.google.com/assets/colab-badge.svg\" alt=\"Open In Colab\"/></a>"
      ]
    },
    {
      "cell_type": "code",
      "execution_count": null,
      "metadata": {
        "colab": {
          "base_uri": "https://localhost:8080/"
        },
        "id": "sFf1woX1Kxiv",
        "outputId": "430247a1-ee90-4c41-d796-5165c327f7d8"
      },
      "outputs": [
        {
          "output_type": "stream",
          "name": "stdout",
          "text": [
            "2.12.0\n"
          ]
        }
      ],
      "source": [
        "import tensorflow as tf\n",
        "print(tf.__version__)"
      ]
    },
    {
      "cell_type": "code",
      "source": [
        "scalar = tf.constant(7)\n",
        "scalar"
      ],
      "metadata": {
        "colab": {
          "base_uri": "https://localhost:8080/"
        },
        "id": "waUrJHjZLPVq",
        "outputId": "dd68a44c-4abd-4acb-b8c5-5b74294aaba8"
      },
      "execution_count": null,
      "outputs": [
        {
          "output_type": "execute_result",
          "data": {
            "text/plain": [
              "<tf.Tensor: shape=(), dtype=int32, numpy=7>"
            ]
          },
          "metadata": {},
          "execution_count": 2
        }
      ]
    },
    {
      "cell_type": "code",
      "source": [
        "scalar.ndim"
      ],
      "metadata": {
        "colab": {
          "base_uri": "https://localhost:8080/"
        },
        "id": "iF5RILdfLh-X",
        "outputId": "9ef3b0f5-39dd-44f8-c3f5-32fba6be1214"
      },
      "execution_count": null,
      "outputs": [
        {
          "output_type": "execute_result",
          "data": {
            "text/plain": [
              "0"
            ]
          },
          "metadata": {},
          "execution_count": 3
        }
      ]
    },
    {
      "cell_type": "code",
      "source": [
        "vector = tf.constant([10,10])\n",
        "vector.ndim"
      ],
      "metadata": {
        "colab": {
          "base_uri": "https://localhost:8080/"
        },
        "id": "gnbSR1DaLorP",
        "outputId": "50f31ccf-2184-4b9a-9d56-205ab9436682"
      },
      "execution_count": null,
      "outputs": [
        {
          "output_type": "execute_result",
          "data": {
            "text/plain": [
              "1"
            ]
          },
          "metadata": {},
          "execution_count": 4
        }
      ]
    },
    {
      "cell_type": "code",
      "source": [
        "from numpy import float32\n",
        "tensor = tf.constant([[[5,10,6],\n",
        "                     [7,1,8]],\n",
        "                     [[6,5,3],\n",
        "                     [5,9,6]]],dtype=float32)\n",
        "tensor"
      ],
      "metadata": {
        "colab": {
          "base_uri": "https://localhost:8080/"
        },
        "id": "gQ0KflTJQImg",
        "outputId": "69047045-d269-4980-9420-45f0f2fa7482"
      },
      "execution_count": null,
      "outputs": [
        {
          "output_type": "execute_result",
          "data": {
            "text/plain": [
              "<tf.Tensor: shape=(2, 2, 3), dtype=float32, numpy=\n",
              "array([[[ 5., 10.,  6.],\n",
              "        [ 7.,  1.,  8.]],\n",
              "\n",
              "       [[ 6.,  5.,  3.],\n",
              "        [ 5.,  9.,  6.]]], dtype=float32)>"
            ]
          },
          "metadata": {},
          "execution_count": 5
        }
      ]
    },
    {
      "cell_type": "code",
      "source": [
        "Vartensor = tf.Variable([10,10])\n",
        "\n",
        "Vartensor[1].assign(50)\n",
        "\n",
        "Vartensor"
      ],
      "metadata": {
        "colab": {
          "base_uri": "https://localhost:8080/"
        },
        "id": "tIAjmdX7QrNg",
        "outputId": "bca2a1f5-2ac9-4cc2-aacf-bd1d3b11f709"
      },
      "execution_count": null,
      "outputs": [
        {
          "output_type": "execute_result",
          "data": {
            "text/plain": [
              "<tf.Variable 'Variable:0' shape=(2,) dtype=int32, numpy=array([10, 50], dtype=int32)>"
            ]
          },
          "metadata": {},
          "execution_count": 6
        }
      ]
    },
    {
      "cell_type": "code",
      "source": [
        "random_1 = tf.random.Generator.from_seed(42)\n",
        "random_1 = random_1.uniform(shape=(3,3))\n",
        "random_1"
      ],
      "metadata": {
        "colab": {
          "base_uri": "https://localhost:8080/"
        },
        "id": "OR7hThJtY7EW",
        "outputId": "e4e5e919-2f35-451a-a3a6-20125bdafeb7"
      },
      "execution_count": null,
      "outputs": [
        {
          "output_type": "execute_result",
          "data": {
            "text/plain": [
              "<tf.Tensor: shape=(3, 3), dtype=float32, numpy=\n",
              "array([[0.7493447 , 0.73561966, 0.45230794],\n",
              "       [0.49039817, 0.1889317 , 0.52027524],\n",
              "       [0.8736881 , 0.46921718, 0.63932586]], dtype=float32)>"
            ]
          },
          "metadata": {},
          "execution_count": 7
        }
      ]
    },
    {
      "cell_type": "code",
      "source": [
        "tf.random.set_seed(42)\n",
        "tf.random.shuffle(tensor)"
      ],
      "metadata": {
        "colab": {
          "base_uri": "https://localhost:8080/"
        },
        "id": "XnfwLlqIyshM",
        "outputId": "dc42f96a-cdb6-465d-faa1-3c41ee6c2f06"
      },
      "execution_count": null,
      "outputs": [
        {
          "output_type": "execute_result",
          "data": {
            "text/plain": [
              "<tf.Tensor: shape=(2, 2, 3), dtype=float32, numpy=\n",
              "array([[[ 6.,  5.,  3.],\n",
              "        [ 5.,  9.,  6.]],\n",
              "\n",
              "       [[ 5., 10.,  6.],\n",
              "        [ 7.,  1.,  8.]]], dtype=float32)>"
            ]
          },
          "metadata": {},
          "execution_count": 8
        }
      ]
    },
    {
      "cell_type": "code",
      "source": [
        "import numpy as np\n",
        "numpy_a = np.arange(1,25, dtype=np.int32)\n",
        "numpy_a"
      ],
      "metadata": {
        "colab": {
          "base_uri": "https://localhost:8080/"
        },
        "id": "vbDPQuCEAnyP",
        "outputId": "bcb1c59a-3a53-457f-8623-508e685c785f"
      },
      "execution_count": null,
      "outputs": [
        {
          "output_type": "execute_result",
          "data": {
            "text/plain": [
              "array([ 1,  2,  3,  4,  5,  6,  7,  8,  9, 10, 11, 12, 13, 14, 15, 16, 17,\n",
              "       18, 19, 20, 21, 22, 23, 24], dtype=int32)"
            ]
          },
          "metadata": {},
          "execution_count": 9
        }
      ]
    },
    {
      "cell_type": "code",
      "source": [
        "A = tf.constant(numpy_a, shape=(2,3,4))\n",
        "A"
      ],
      "metadata": {
        "colab": {
          "base_uri": "https://localhost:8080/"
        },
        "id": "7HODfe-DC7md",
        "outputId": "23844692-4d82-4178-db6e-41fb8dec275e"
      },
      "execution_count": null,
      "outputs": [
        {
          "output_type": "execute_result",
          "data": {
            "text/plain": [
              "<tf.Tensor: shape=(2, 3, 4), dtype=int32, numpy=\n",
              "array([[[ 1,  2,  3,  4],\n",
              "        [ 5,  6,  7,  8],\n",
              "        [ 9, 10, 11, 12]],\n",
              "\n",
              "       [[13, 14, 15, 16],\n",
              "        [17, 18, 19, 20],\n",
              "        [21, 22, 23, 24]]], dtype=int32)>"
            ]
          },
          "metadata": {},
          "execution_count": 10
        }
      ]
    },
    {
      "cell_type": "code",
      "source": [
        "rank4 = tf.random.uniform(shape=[2,3,4,5], dtype=float32)\n",
        "rank4"
      ],
      "metadata": {
        "colab": {
          "base_uri": "https://localhost:8080/"
        },
        "id": "IHUZDfFSHu_o",
        "outputId": "c9561148-f093-450b-80dd-d76180ee643c"
      },
      "execution_count": null,
      "outputs": [
        {
          "output_type": "execute_result",
          "data": {
            "text/plain": [
              "<tf.Tensor: shape=(2, 3, 4, 5), dtype=float32, numpy=\n",
              "array([[[[0.68789124, 0.48447883, 0.9309944 , 0.252187  , 0.73115396],\n",
              "         [0.89256823, 0.94674826, 0.7493341 , 0.34925628, 0.54718256],\n",
              "         [0.26160395, 0.69734323, 0.11962581, 0.53484344, 0.7148968 ],\n",
              "         [0.87501776, 0.33967495, 0.17377627, 0.4418521 , 0.9008261 ]],\n",
              "\n",
              "        [[0.13803864, 0.12217975, 0.5754491 , 0.9417181 , 0.9186585 ],\n",
              "         [0.59708476, 0.6109482 , 0.82086265, 0.83269787, 0.8915849 ],\n",
              "         [0.01377225, 0.49807465, 0.57503664, 0.6856195 , 0.75972784],\n",
              "         [0.908944  , 0.40900218, 0.8765154 , 0.53890026, 0.42733097]],\n",
              "\n",
              "        [[0.401173  , 0.66623247, 0.16348064, 0.18220246, 0.97040176],\n",
              "         [0.06139731, 0.53034747, 0.9869994 , 0.4746945 , 0.8646754 ],\n",
              "         [0.20301068, 0.11448455, 0.35100245, 0.68227184, 0.18108869],\n",
              "         [0.8163481 , 0.65651655, 0.9258256 , 0.2391715 , 0.8365958 ]]],\n",
              "\n",
              "\n",
              "       [[[0.04765272, 0.8007157 , 0.8299267 , 0.14328372, 0.8616878 ],\n",
              "         [0.9707202 , 0.6779593 , 0.5641242 , 0.62537   , 0.8653159 ],\n",
              "         [0.16104567, 0.11101365, 0.61647224, 0.60355604, 0.6303868 ],\n",
              "         [0.5213008 , 0.8186623 , 0.20569968, 0.19041789, 0.14648688]],\n",
              "\n",
              "        [[0.14919603, 0.8594816 , 0.9167328 , 0.5044954 , 0.8656684 ],\n",
              "         [0.70333743, 0.5343715 , 0.35093033, 0.63313484, 0.84159875],\n",
              "         [0.4346044 , 0.29658782, 0.849067  , 0.20556164, 0.39022648],\n",
              "         [0.59092   , 0.8787719 , 0.7197267 , 0.09947217, 0.9480752 ]],\n",
              "\n",
              "        [[0.4462725 , 0.336092  , 0.44687068, 0.7897918 , 0.61746264],\n",
              "         [0.54826057, 0.93602526, 0.19893539, 0.8555646 , 0.2972008 ],\n",
              "         [0.12980974, 0.5903213 , 0.07226849, 0.7990017 , 0.37418842],\n",
              "         [0.8004397 , 0.07435453, 0.4683442 , 0.3976704 , 0.4365393 ]]]],\n",
              "      dtype=float32)>"
            ]
          },
          "metadata": {},
          "execution_count": 11
        }
      ]
    },
    {
      "cell_type": "code",
      "source": [
        "rank4[:,:2,:2,:2]"
      ],
      "metadata": {
        "colab": {
          "base_uri": "https://localhost:8080/"
        },
        "id": "7Iqnm_sGk9FY",
        "outputId": "9282c58d-43b6-455c-9d08-10febc272658"
      },
      "execution_count": null,
      "outputs": [
        {
          "output_type": "execute_result",
          "data": {
            "text/plain": [
              "<tf.Tensor: shape=(2, 2, 2, 2), dtype=float32, numpy=\n",
              "array([[[[0.68789124, 0.48447883],\n",
              "         [0.89256823, 0.94674826]],\n",
              "\n",
              "        [[0.13803864, 0.12217975],\n",
              "         [0.59708476, 0.6109482 ]]],\n",
              "\n",
              "\n",
              "       [[[0.04765272, 0.8007157 ],\n",
              "         [0.9707202 , 0.6779593 ]],\n",
              "\n",
              "        [[0.14919603, 0.8594816 ],\n",
              "         [0.70333743, 0.5343715 ]]]], dtype=float32)>"
            ]
          },
          "metadata": {},
          "execution_count": 12
        }
      ]
    },
    {
      "cell_type": "code",
      "source": [
        "rank2 = tf.constant([[10,7],\n",
        "                     [5,6]])\n",
        "rank2"
      ],
      "metadata": {
        "colab": {
          "base_uri": "https://localhost:8080/"
        },
        "id": "SQdGF6enJ-jp",
        "outputId": "08f89cb0-3a5d-4bef-d7cb-b13d2e1d2f10"
      },
      "execution_count": null,
      "outputs": [
        {
          "output_type": "execute_result",
          "data": {
            "text/plain": [
              "<tf.Tensor: shape=(2, 2), dtype=int32, numpy=\n",
              "array([[10,  7],\n",
              "       [ 5,  6]], dtype=int32)>"
            ]
          },
          "metadata": {},
          "execution_count": 13
        }
      ]
    },
    {
      "cell_type": "code",
      "source": [
        "rank2[:,-1]"
      ],
      "metadata": {
        "colab": {
          "base_uri": "https://localhost:8080/"
        },
        "id": "ZmBOk3DhKjqJ",
        "outputId": "c8139d34-bf07-4c71-f8ea-eb3cb2bbcbfd"
      },
      "execution_count": null,
      "outputs": [
        {
          "output_type": "execute_result",
          "data": {
            "text/plain": [
              "<tf.Tensor: shape=(2,), dtype=int32, numpy=array([7, 6], dtype=int32)>"
            ]
          },
          "metadata": {},
          "execution_count": 14
        }
      ]
    },
    {
      "cell_type": "code",
      "source": [
        "rank3 = rank2[...,tf.newaxis]\n",
        "rank3"
      ],
      "metadata": {
        "colab": {
          "base_uri": "https://localhost:8080/"
        },
        "id": "sw4lakVbLSBZ",
        "outputId": "04a48c96-1d4e-4677-bab1-926314ded937"
      },
      "execution_count": null,
      "outputs": [
        {
          "output_type": "execute_result",
          "data": {
            "text/plain": [
              "<tf.Tensor: shape=(2, 2, 1), dtype=int32, numpy=\n",
              "array([[[10],\n",
              "        [ 7]],\n",
              "\n",
              "       [[ 5],\n",
              "        [ 6]]], dtype=int32)>"
            ]
          },
          "metadata": {},
          "execution_count": 15
        }
      ]
    },
    {
      "cell_type": "code",
      "source": [
        "tf.expand_dims(rank2,axis=1)"
      ],
      "metadata": {
        "colab": {
          "base_uri": "https://localhost:8080/"
        },
        "id": "z_s1VwXFNhsD",
        "outputId": "b07d383c-2e28-4fa2-8335-dfdbf3014ad2"
      },
      "execution_count": null,
      "outputs": [
        {
          "output_type": "execute_result",
          "data": {
            "text/plain": [
              "<tf.Tensor: shape=(2, 1, 2), dtype=int32, numpy=\n",
              "array([[[10,  7]],\n",
              "\n",
              "       [[ 5,  6]]], dtype=int32)>"
            ]
          },
          "metadata": {},
          "execution_count": 16
        }
      ]
    },
    {
      "cell_type": "code",
      "source": [
        "import tensorflow as tf\n",
        "\n",
        "a = tf.constant([[1, 2],\n",
        "                 [3, 4]])\n",
        "b = tf.constant([[1, 1],\n",
        "                 [1, 1]])\n",
        "#tf.matmul(a, b)\n",
        "tf.tensordot(a, b, axes=0)"
      ],
      "metadata": {
        "colab": {
          "base_uri": "https://localhost:8080/"
        },
        "id": "VkxwpDybp2l6",
        "outputId": "d185a6a2-1b46-40c5-8030-c8b3ff3f12e4"
      },
      "execution_count": null,
      "outputs": [
        {
          "output_type": "execute_result",
          "data": {
            "text/plain": [
              "<tf.Tensor: shape=(2, 2, 2, 2), dtype=int32, numpy=\n",
              "array([[[[1, 1],\n",
              "         [1, 1]],\n",
              "\n",
              "        [[2, 2],\n",
              "         [2, 2]]],\n",
              "\n",
              "\n",
              "       [[[3, 3],\n",
              "         [3, 3]],\n",
              "\n",
              "        [[4, 4],\n",
              "         [4, 4]]]], dtype=int32)>"
            ]
          },
          "metadata": {},
          "execution_count": 21
        }
      ]
    },
    {
      "cell_type": "code",
      "source": [
        "a = tf.cast(rank4, dtype=tf.float16)\n",
        "a.dtype"
      ],
      "metadata": {
        "colab": {
          "base_uri": "https://localhost:8080/"
        },
        "id": "mrNisij9iy_f",
        "outputId": "1fc8767c-0aff-41d1-a176-5e4941d10c79"
      },
      "execution_count": null,
      "outputs": [
        {
          "output_type": "execute_result",
          "data": {
            "text/plain": [
              "tf.float16"
            ]
          },
          "metadata": {},
          "execution_count": 20
        }
      ]
    },
    {
      "cell_type": "code",
      "source": [
        "E = tf.constant(np.random.randint(0,100,size=50))\n",
        "E"
      ],
      "metadata": {
        "colab": {
          "base_uri": "https://localhost:8080/"
        },
        "id": "Ovp3oC70jVYq",
        "outputId": "2468b189-a729-4ea3-d588-46aa79fcb792"
      },
      "execution_count": null,
      "outputs": [
        {
          "output_type": "execute_result",
          "data": {
            "text/plain": [
              "<tf.Tensor: shape=(50,), dtype=int64, numpy=\n",
              "array([74, 64, 97, 51, 56, 39, 61, 56, 31,  4, 41, 81, 45, 67,  3, 40, 65,\n",
              "        3, 12, 45, 75, 24, 79, 87, 55, 70, 24, 93, 68, 31, 32, 31, 57,  5,\n",
              "       10, 87,  9, 15, 53, 93, 33, 74, 58, 22, 96, 55, 63, 50, 87, 16])>"
            ]
          },
          "metadata": {},
          "execution_count": 23
        }
      ]
    },
    {
      "cell_type": "code",
      "source": [
        "tf.size(E), E.shape, E.ndim"
      ],
      "metadata": {
        "colab": {
          "base_uri": "https://localhost:8080/"
        },
        "id": "O8onUR2qoiPs",
        "outputId": "e1fc43bc-49d8-482c-e654-c88d4640fa25"
      },
      "execution_count": null,
      "outputs": [
        {
          "output_type": "execute_result",
          "data": {
            "text/plain": [
              "(<tf.Tensor: shape=(), dtype=int32, numpy=50>, TensorShape([50]), 1)"
            ]
          },
          "metadata": {},
          "execution_count": 25
        }
      ]
    },
    {
      "cell_type": "code",
      "source": [
        "tf.reduce_sum(E)"
      ],
      "metadata": {
        "colab": {
          "base_uri": "https://localhost:8080/"
        },
        "id": "ePoachDfpKTf",
        "outputId": "078faac7-4076-4f9e-ffb6-6cd3efb991ee"
      },
      "execution_count": null,
      "outputs": [
        {
          "output_type": "execute_result",
          "data": {
            "text/plain": [
              "<tf.Tensor: shape=(), dtype=int64, numpy=2487>"
            ]
          },
          "metadata": {},
          "execution_count": 26
        }
      ]
    },
    {
      "cell_type": "code",
      "source": [
        "import tensorflow_probability as tfp\n",
        "tfp.stats.variance(E)"
      ],
      "metadata": {
        "colab": {
          "base_uri": "https://localhost:8080/"
        },
        "id": "q-XsB3wUpY2X",
        "outputId": "4031cd93-81ea-4696-a254-eb12f91fb575"
      },
      "execution_count": null,
      "outputs": [
        {
          "output_type": "execute_result",
          "data": {
            "text/plain": [
              "<tf.Tensor: shape=(), dtype=int64, numpy=751>"
            ]
          },
          "metadata": {},
          "execution_count": 31
        }
      ]
    },
    {
      "cell_type": "code",
      "source": [
        "tf.math.reduce_std(tf.cast(E,dtype=tf.float32))"
      ],
      "metadata": {
        "colab": {
          "base_uri": "https://localhost:8080/"
        },
        "id": "Y5EmL2u0rAGG",
        "outputId": "2ad28291-3577-47e3-ff92-e29c0d0a696f"
      },
      "execution_count": null,
      "outputs": [
        {
          "output_type": "execute_result",
          "data": {
            "text/plain": [
              "<tf.Tensor: shape=(), dtype=float32, numpy=27.39475>"
            ]
          },
          "metadata": {},
          "execution_count": 36
        }
      ]
    },
    {
      "cell_type": "code",
      "source": [
        "tf.random.set_seed(42)\n",
        "f = tf.random.uniform(shape=[50])\n",
        "f"
      ],
      "metadata": {
        "colab": {
          "base_uri": "https://localhost:8080/"
        },
        "id": "FsMwrAMLzKWd",
        "outputId": "c0654cb5-b081-4332-f3be-17d8641b272d"
      },
      "execution_count": null,
      "outputs": [
        {
          "output_type": "execute_result",
          "data": {
            "text/plain": [
              "<tf.Tensor: shape=(50,), dtype=float32, numpy=\n",
              "array([0.6645621 , 0.44100678, 0.3528825 , 0.46448255, 0.03366041,\n",
              "       0.68467236, 0.74011743, 0.8724445 , 0.22632635, 0.22319686,\n",
              "       0.3103881 , 0.7223358 , 0.13318717, 0.5480639 , 0.5746088 ,\n",
              "       0.8996835 , 0.00946367, 0.5212307 , 0.6345445 , 0.1993283 ,\n",
              "       0.72942245, 0.54583454, 0.10756552, 0.6767061 , 0.6602763 ,\n",
              "       0.33695042, 0.60141766, 0.21062577, 0.8527372 , 0.44062173,\n",
              "       0.9485276 , 0.23752594, 0.81179297, 0.5263394 , 0.494308  ,\n",
              "       0.21612847, 0.8457197 , 0.8718841 , 0.3083862 , 0.6868038 ,\n",
              "       0.23764038, 0.7817228 , 0.9671384 , 0.06870162, 0.79873943,\n",
              "       0.66028714, 0.5871513 , 0.16461694, 0.7381023 , 0.32054043],\n",
              "      dtype=float32)>"
            ]
          },
          "metadata": {},
          "execution_count": 39
        }
      ]
    },
    {
      "cell_type": "code",
      "source": [
        "f[tf.argmax(f)]"
      ],
      "metadata": {
        "id": "8CUMs67bLsiz",
        "outputId": "8a01c6f3-48d4-4b1f-99da-b0fdc92897da",
        "colab": {
          "base_uri": "https://localhost:8080/"
        }
      },
      "execution_count": null,
      "outputs": [
        {
          "output_type": "execute_result",
          "data": {
            "text/plain": [
              "<tf.Tensor: shape=(), dtype=float32, numpy=0.9671384>"
            ]
          },
          "metadata": {},
          "execution_count": 43
        }
      ]
    },
    {
      "cell_type": "code",
      "source": [
        "tf.reduce_max(f)"
      ],
      "metadata": {
        "id": "InXL7SfALvxq",
        "colab": {
          "base_uri": "https://localhost:8080/"
        },
        "outputId": "9e6afb34-994c-46ad-9cdb-b58b85efa28a"
      },
      "execution_count": null,
      "outputs": [
        {
          "output_type": "execute_result",
          "data": {
            "text/plain": [
              "<tf.Tensor: shape=(), dtype=float32, numpy=0.9671384>"
            ]
          },
          "metadata": {},
          "execution_count": 44
        }
      ]
    },
    {
      "cell_type": "code",
      "source": [
        "tf.reduce_min(f)"
      ],
      "metadata": {
        "colab": {
          "base_uri": "https://localhost:8080/"
        },
        "id": "RPT84U8NM786",
        "outputId": "9bda305c-3134-4cda-feb9-f28c2afb8049"
      },
      "execution_count": null,
      "outputs": [
        {
          "output_type": "execute_result",
          "data": {
            "text/plain": [
              "<tf.Tensor: shape=(), dtype=float32, numpy=0.009463668>"
            ]
          },
          "metadata": {},
          "execution_count": 45
        }
      ]
    },
    {
      "cell_type": "code",
      "source": [
        "f[tf.argmin(f)]"
      ],
      "metadata": {
        "colab": {
          "base_uri": "https://localhost:8080/"
        },
        "id": "JwjBWYugNskX",
        "outputId": "90bf1184-4bce-4a80-b1d1-be8c3556f3c7"
      },
      "execution_count": null,
      "outputs": [
        {
          "output_type": "execute_result",
          "data": {
            "text/plain": [
              "<tf.Tensor: shape=(), dtype=float32, numpy=0.009463668>"
            ]
          },
          "metadata": {},
          "execution_count": 46
        }
      ]
    },
    {
      "cell_type": "code",
      "source": [
        "some_list = [0,1,2,3]\n",
        "tf.one_hot(some_list,depth=4, on_value=\"a denial\", off_value=\"teen spirit\")"
      ],
      "metadata": {
        "colab": {
          "base_uri": "https://localhost:8080/"
        },
        "id": "1zbgXgdfN4XG",
        "outputId": "e5710b86-07ac-4ff5-a2fc-371deecc04c0"
      },
      "execution_count": null,
      "outputs": [
        {
          "output_type": "execute_result",
          "data": {
            "text/plain": [
              "<tf.Tensor: shape=(4, 4), dtype=string, numpy=\n",
              "array([[b'a denial', b'teen spirit', b'teen spirit', b'teen spirit'],\n",
              "       [b'teen spirit', b'a denial', b'teen spirit', b'teen spirit'],\n",
              "       [b'teen spirit', b'teen spirit', b'a denial', b'teen spirit'],\n",
              "       [b'teen spirit', b'teen spirit', b'teen spirit', b'a denial']],\n",
              "      dtype=object)>"
            ]
          },
          "metadata": {},
          "execution_count": 52
        }
      ]
    },
    {
      "cell_type": "code",
      "source": [
        "tf.math.sqrt(tf.cast(f, dtype=float32))"
      ],
      "metadata": {
        "colab": {
          "base_uri": "https://localhost:8080/"
        },
        "id": "wRw5qXGfc8Nn",
        "outputId": "c0ff9f8c-f6b8-492b-ca3f-8b1d68220483"
      },
      "execution_count": null,
      "outputs": [
        {
          "output_type": "execute_result",
          "data": {
            "text/plain": [
              "<tf.Tensor: shape=(50,), dtype=float32, numpy=\n",
              "array([0.81520677, 0.6640834 , 0.59403914, 0.6815296 , 0.18346775,\n",
              "       0.8274493 , 0.8603008 , 0.9340474 , 0.4757377 , 0.47243714,\n",
              "       0.55712485, 0.8499034 , 0.36494818, 0.74031335, 0.7580296 ,\n",
              "       0.9485165 , 0.09728138, 0.7219631 , 0.796583  , 0.44646198,\n",
              "       0.8540623 , 0.7388062 , 0.32797185, 0.82262146, 0.81257385,\n",
              "       0.5804743 , 0.7755112 , 0.45893982, 0.9234377 , 0.66379344,\n",
              "       0.9739238 , 0.48736632, 0.90099555, 0.72549254, 0.7030704 ,\n",
              "       0.4648962 , 0.91963017, 0.93374735, 0.5553253 , 0.8287363 ,\n",
              "       0.4874837 , 0.88415086, 0.98343194, 0.26210994, 0.89372224,\n",
              "       0.8125805 , 0.766258  , 0.40573013, 0.85912883, 0.5661629 ],\n",
              "      dtype=float32)>"
            ]
          },
          "metadata": {},
          "execution_count": 53
        }
      ]
    },
    {
      "cell_type": "code",
      "source": [
        "tf.config.list_logical_devices()"
      ],
      "metadata": {
        "colab": {
          "base_uri": "https://localhost:8080/"
        },
        "id": "f0HYxxrhdHkY",
        "outputId": "229e3fa0-2422-4f45-d2c5-ddd244110963"
      },
      "execution_count": null,
      "outputs": [
        {
          "output_type": "execute_result",
          "data": {
            "text/plain": [
              "[LogicalDevice(name='/device:CPU:0', device_type='CPU')]"
            ]
          },
          "metadata": {},
          "execution_count": 55
        }
      ]
    }
  ]
}